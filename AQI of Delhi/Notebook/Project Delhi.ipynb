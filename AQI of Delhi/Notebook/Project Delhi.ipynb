{
 "cells": [
  {
   "attachments": {},
   "cell_type": "markdown",
   "id": "5b70f243",
   "metadata": {},
   "source": [
    "<style>\n",
    "h1{color: rgb(255, 26, 26); background-color: rgb(0, 255, 255);}\n",
    "</style>\n",
    "<h1><b> IN THIS PROJECT WE ARE GOING TO PREDICT AIR QUALITY INDEX.</b></h1>"
   ]
  },
  {
   "attachments": {},
   "cell_type": "markdown",
   "id": "0173862b",
   "metadata": {},
   "source": [
    "# What is Air Pollution? #"
   ]
  },
  {
   "attachments": {},
   "cell_type": "markdown",
   "id": "d409dfe7",
   "metadata": {},
   "source": [
    "Air pollution is nothing but, increase of toxic and harmful material in the air, resulting in contamination of air. These material may be in form of solid, liquid or gaseous substances and released in air due to various activities by human beings causing an adverse effect to natural life."
   ]
  },
  {
   "attachments": {},
   "cell_type": "markdown",
   "id": "bbea455d",
   "metadata": {},
   "source": [
    "## How does Air Pollution affect the capital of India? ##"
   ]
  },
  {
   "attachments": {},
   "cell_type": "markdown",
   "id": "18b9e58f",
   "metadata": {},
   "source": [
    "The air quality in Delhi, the capital territory of India, according to a WHO survey of 1,650 world cities, and a survey of 7,000 world cities by the US-based Health Effects Institute in August 2022, is the worst of any major city in the world. It also affects the districts around Delhi. Air pollution in India is estimated to kill about 2 million people every year; it is the fifth largest killer in India. India has the world's highest death rate from chronic respiratory diseases and asthma, according to the WHO. In Delhi, poor quality air irreversibly damages the lungs of 2.2 million or 50 percent of all children."
   ]
  },
  {
   "attachments": {},
   "cell_type": "markdown",
   "id": "71ae3e37",
   "metadata": {},
   "source": [
    "## Causes of poor air quality: ##"
   ]
  },
  {
   "attachments": {},
   "cell_type": "markdown",
   "id": "bd477529",
   "metadata": {},
   "source": [
    "<ol>\n",
    "<li> Emissions from Industries and Factories.</li>\n",
    "<li> The Use of Firecrackers. </li>\n",
    "<li> Emissions from Construction Sites. </li>\n",
    "<li> Over-Population. </li>\n",
    "<li> Emission from Transportation and Motorised Vehicles. </li>\n",
    "<li> Stubble Burning in Agricultural Sector. </li>\n",
    "</ol>"
   ]
  },
  {
   "attachments": {},
   "cell_type": "markdown",
   "id": "5475236a",
   "metadata": {},
   "source": [
    "### We need to import requred Libraries ###"
   ]
  },
  {
   "cell_type": "code",
   "execution_count": null,
   "id": "7bfa99c2",
   "metadata": {},
   "outputs": [],
   "source": [
    "import pandas as pd\n",
    "import numpy as np\n",
    "import matplotlib.pyplot as plt\n",
    "from IPython.display import Image\n",
    "from urllib.request import urlretrieve\n",
    "import re"
   ]
  },
  {
   "attachments": {},
   "cell_type": "markdown",
   "id": "92009158",
   "metadata": {},
   "source": [
    "# According to Air Quality Index (AQI) #"
   ]
  },
  {
   "attachments": {},
   "cell_type": "markdown",
   "id": "a33e6e58",
   "metadata": {},
   "source": [
    "Delhi Average Air Quality:"
   ]
  },
  {
   "cell_type": "code",
   "execution_count": null,
   "id": "73f0cec8",
   "metadata": {
    "scrolled": true
   },
   "outputs": [],
   "source": [
    "Image('..\\..\\AQI Delhi.png')"
   ]
  },
  {
   "attachments": {},
   "cell_type": "markdown",
   "id": "1a07ecdf",
   "metadata": {},
   "source": [
    "# We want to calculate estimated pollution created by vehicular movement #"
   ]
  },
  {
   "attachments": {},
   "cell_type": "markdown",
   "id": "d9072a66",
   "metadata": {},
   "source": [
    "For this study we need help of variours data sets.\n",
    "Our goal is to achieve Vehicular movement through a model."
   ]
  },
  {
   "attachments": {},
   "cell_type": "markdown",
   "id": "414854be",
   "metadata": {},
   "source": [
    "## Reading Hourly Cities Data from Csv Files ##"
   ]
  },
  {
   "cell_type": "code",
   "execution_count": null,
   "id": "f457249b",
   "metadata": {},
   "outputs": [],
   "source": [
    "AshokVihar = pd.read_csv('E://MY RESEARCHES//PROJECTS//Project//2.1 Analysis of Factors Affecting the AQI of Delhi//Cities//AshokVihar_Hourly.csv', index_col=0)\n",
    "DCStadium = pd.read_csv('E://MY RESEARCHES//PROJECTS//Project//2.1 Analysis of Factors Affecting the AQI of Delhi//Cities//DCStadium_Hourly.csv', index_col=0)\n",
    "Dwarka = pd.read_csv('E://MY RESEARCHES//PROJECTS//Project//2.1 Analysis of Factors Affecting the AQI of Delhi//Cities//DwarkaSec8_Hourly.csv', index_col=0)\n",
    "Najafgarh = pd.read_csv('E://MY RESEARCHES//PROJECTS//Project//2.1 Analysis of Factors Affecting the AQI of Delhi//Cities//Najafgarh_Hourly.csv', index_col=0)\n",
    "NehruNagar = pd.read_csv('E://MY RESEARCHES//PROJECTS//Project//2.1 Analysis of Factors Affecting the AQI of Delhi//Cities//NehruNagar_Hourly.csv', index_col=0)\n",
    "Okhla = pd.read_csv('E://MY RESEARCHES//PROJECTS//Project//2.1 Analysis of Factors Affecting the AQI of Delhi//Cities//Okhla_Hourly.csv', index_col=0)"
   ]
  },
  {
   "attachments": {},
   "cell_type": "markdown",
   "id": "3187df43",
   "metadata": {},
   "source": [
    "## Reading Vehicle Data from Csv Files ##"
   ]
  },
  {
   "cell_type": "code",
   "execution_count": null,
   "id": "d365c021",
   "metadata": {},
   "outputs": [],
   "source": [
    "Vehicle = pd.read_csv('E://MY RESEARCHES//PROJECTS//Project//2.1 Analysis of Factors Affecting the AQI of Delhi//Vehicale//Car details v3.csv')"
   ]
  },
  {
   "cell_type": "code",
   "execution_count": null,
   "id": "6ccd74cc",
   "metadata": {},
   "outputs": [],
   "source": [
    "Vehicle"
   ]
  },
  {
   "attachments": {},
   "cell_type": "markdown",
   "id": "02e9f1a6",
   "metadata": {},
   "source": [
    "## From Vehicle Data Frame we need required columns ##"
   ]
  },
  {
   "cell_type": "code",
   "execution_count": null,
   "id": "260b973e",
   "metadata": {},
   "outputs": [],
   "source": [
    "Vehicle_speed = Vehicle[['name', 'fuel', 'mileage', 'engine', 'max_power', 'torque']]"
   ]
  },
  {
   "cell_type": "code",
   "execution_count": null,
   "id": "41f089db",
   "metadata": {},
   "outputs": [],
   "source": [
    "Vehicle_speed"
   ]
  },
  {
   "attachments": {},
   "cell_type": "markdown",
   "id": "63b7edfc",
   "metadata": {},
   "source": [
    "### Analysing Our Data Frames ###"
   ]
  },
  {
   "cell_type": "code",
   "execution_count": null,
   "id": "93dc5aa3",
   "metadata": {},
   "outputs": [],
   "source": [
    "Vehicle_speed.shape"
   ]
  },
  {
   "cell_type": "code",
   "execution_count": null,
   "id": "928fd8b6",
   "metadata": {},
   "outputs": [],
   "source": [
    "Vehicle_speed.info()"
   ]
  },
  {
   "cell_type": "code",
   "execution_count": null,
   "id": "6907b673",
   "metadata": {},
   "outputs": [],
   "source": [
    "Vehicle_speed.name.is_unique"
   ]
  },
  {
   "cell_type": "code",
   "execution_count": null,
   "id": "1bf57700",
   "metadata": {},
   "outputs": [],
   "source": [
    "AshokVihar.describe()"
   ]
  },
  {
   "cell_type": "code",
   "execution_count": null,
   "id": "1f8beedb",
   "metadata": {},
   "outputs": [],
   "source": [
    "DCStadium.describe()"
   ]
  },
  {
   "cell_type": "code",
   "execution_count": null,
   "id": "36c8bb4d",
   "metadata": {},
   "outputs": [],
   "source": [
    "Dwarka.describe()"
   ]
  },
  {
   "attachments": {},
   "cell_type": "markdown",
   "id": "6c37578d",
   "metadata": {},
   "source": [
    "### We need to seprate the float values from milage column ###"
   ]
  },
  {
   "cell_type": "code",
   "execution_count": null,
   "id": "30a5d534",
   "metadata": {},
   "outputs": [],
   "source": [
    "Vehicle_speed['mileage']"
   ]
  },
  {
   "cell_type": "code",
   "execution_count": null,
   "id": "a46f4dfd",
   "metadata": {},
   "outputs": [],
   "source": [
    "split_milage = Vehicle_speed.mileage.str.split(' ', 1).str[0]"
   ]
  },
  {
   "cell_type": "code",
   "execution_count": null,
   "id": "f8f0d32f",
   "metadata": {},
   "outputs": [],
   "source": [
    "milage = split_milage.rename('milage/liter').astype('float')"
   ]
  },
  {
   "cell_type": "code",
   "execution_count": null,
   "id": "798332ca",
   "metadata": {},
   "outputs": [],
   "source": [
    "milage"
   ]
  },
  {
   "attachments": {},
   "cell_type": "markdown",
   "id": "7d56bf16",
   "metadata": {},
   "source": [
    "## Concatinating our milage DataFrame to Main Data Frame which is \"vehicle\" ##"
   ]
  },
  {
   "cell_type": "code",
   "execution_count": null,
   "id": "df17f24c",
   "metadata": {},
   "outputs": [],
   "source": [
    "vehicle = pd.concat([Vehicle_speed, milage], axis=1)"
   ]
  },
  {
   "cell_type": "code",
   "execution_count": null,
   "id": "a06ea562",
   "metadata": {},
   "outputs": [],
   "source": [
    "vehicle"
   ]
  },
  {
   "cell_type": "code",
   "execution_count": null,
   "id": "ee39858a",
   "metadata": {},
   "outputs": [],
   "source": [
    "vehicle.info()"
   ]
  },
  {
   "attachments": {},
   "cell_type": "markdown",
   "id": "b4c317ad",
   "metadata": {},
   "source": [
    "### Checking whether there are null valus or not ###"
   ]
  },
  {
   "cell_type": "code",
   "execution_count": null,
   "id": "21872437",
   "metadata": {},
   "outputs": [],
   "source": [
    "vehicle[\"milage/liter\"].isnull"
   ]
  },
  {
   "attachments": {},
   "cell_type": "markdown",
   "id": "7817adcd",
   "metadata": {},
   "source": [
    "### Looks great now we can do operations as we want ###"
   ]
  },
  {
   "cell_type": "code",
   "execution_count": null,
   "id": "ab3a51c3",
   "metadata": {},
   "outputs": [],
   "source": [
    "vehicle[\"milage/liter\"].mean()"
   ]
  },
  {
   "attachments": {},
   "cell_type": "markdown",
   "id": "f10acfbb",
   "metadata": {},
   "source": [
    "# Let's understand the Hourly Cities Data #"
   ]
  },
  {
   "cell_type": "code",
   "execution_count": null,
   "id": "2f169c5b",
   "metadata": {},
   "outputs": [],
   "source": [
    "AshokVihar"
   ]
  },
  {
   "cell_type": "code",
   "execution_count": null,
   "id": "ff3b5ed1",
   "metadata": {},
   "outputs": [],
   "source": [
    "DCStadium"
   ]
  },
  {
   "attachments": {},
   "cell_type": "markdown",
   "id": "8219e49f",
   "metadata": {},
   "source": [
    "# We need to make custom functions to do further operations #"
   ]
  },
  {
   "cell_type": "code",
   "execution_count": null,
   "id": "4d49d437",
   "metadata": {},
   "outputs": [],
   "source": [
    "def air_data_manual(DataFrame, year, month, day, callday=False):\n",
    "    output1 = DataFrame[(DataFrame['year'] == year) & (DataFrame['month'] == month)]\n",
    "    output2 = DataFrame[(DataFrame['year'] == year) & (DataFrame['month'] == month) & (DataFrame['day'] == day)]\n",
    "    if callday is False:\n",
    "        return output1\n",
    "    if callday is True:\n",
    "        return output2"
   ]
  },
  {
   "cell_type": "code",
   "execution_count": null,
   "id": "d21840ad",
   "metadata": {},
   "outputs": [],
   "source": [
    "air_data_manual(DCStadium, 2019, 8, 20, callday=True)"
   ]
  },
  {
   "cell_type": "code",
   "execution_count": null,
   "id": "54baacb8",
   "metadata": {},
   "outputs": [],
   "source": [
    "air_data_manual(DCStadium, 2019, 8, 20)"
   ]
  },
  {
   "cell_type": "code",
   "execution_count": null,
   "id": "40b98d43",
   "metadata": {},
   "outputs": [],
   "source": [
    "air_data_manual(AshokVihar, 2019, 8, 10)"
   ]
  },
  {
   "cell_type": "code",
   "execution_count": null,
   "id": "2c9c2349",
   "metadata": {},
   "outputs": [],
   "source": [
    "air_data_manual(AshokVihar, 2019, 8, 10, callday=True)"
   ]
  },
  {
   "attachments": {},
   "cell_type": "markdown",
   "id": "6010ff08",
   "metadata": {},
   "source": [
    "What is PM 2.5?\n",
    "\n",
    "Particulate matter, or PM2.5, is very small particles in air that are 2.5 micrometers (about 1 ten-thousandth of an inch) or less in diameter. This is less than the thickness of a human hair. Particulate matter, one of six U.S. EPA criteria air pollutants, is a mixture that can include organic chemicals, dust, soot and metals. These particles can come from cars and trucks, factories, wood burning, and other activities."
   ]
  },
  {
   "attachments": {},
   "cell_type": "markdown",
   "id": "34131768",
   "metadata": {},
   "source": [
    "PM2.5 is used when describing pollutant levels both outdoor and indoor, where health impact from exposure considers amount of PM2.5 over a 24-hour period. Most studies indicate PM2.5 at or below 12 μg/m 3 is considered healthy with little to no risk from exposure."
   ]
  },
  {
   "cell_type": "code",
   "execution_count": null,
   "id": "4148542c",
   "metadata": {},
   "outputs": [],
   "source": [
    "Image('E://MY RESEARCHES//PROJECTS//Project//2.1 Analysis of Factors Affecting the AQI of Delhi//PM2.5.png')"
   ]
  },
  {
   "cell_type": "code",
   "execution_count": null,
   "id": "3e57650b",
   "metadata": {},
   "outputs": [],
   "source": [
    "AshokVihar[AshokVihar['PM2.5'] > 700] #looks scary"
   ]
  },
  {
   "cell_type": "code",
   "execution_count": null,
   "id": "21e7d6cd",
   "metadata": {},
   "outputs": [],
   "source": []
  }
 ],
 "metadata": {
  "kernelspec": {
   "display_name": "Python 3 (ipykernel)",
   "language": "python",
   "name": "python3"
  },
  "language_info": {
   "codemirror_mode": {
    "name": "ipython",
    "version": 3
   },
   "file_extension": ".py",
   "mimetype": "text/x-python",
   "name": "python",
   "nbconvert_exporter": "python",
   "pygments_lexer": "ipython3",
   "version": "3.11.3"
  }
 },
 "nbformat": 4,
 "nbformat_minor": 5
}
